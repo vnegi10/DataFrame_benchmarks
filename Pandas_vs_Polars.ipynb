{
 "cells": [
  {
   "cell_type": "code",
   "execution_count": 1,
   "id": "ebd523d5-d650-4abf-9742-a0b6e02bacce",
   "metadata": {
    "tags": []
   },
   "outputs": [
    {
     "name": "stdout",
     "output_type": "stream",
     "text": [
      "0.17.2\n"
     ]
    }
   ],
   "source": [
    "import polars as pl\n",
    "print(pl.__version__)"
   ]
  },
  {
   "cell_type": "code",
   "execution_count": 2,
   "id": "309ee203-478a-4435-9f07-b3904bc60ce3",
   "metadata": {
    "tags": []
   },
   "outputs": [
    {
     "name": "stdout",
     "output_type": "stream",
     "text": [
      "2.0.0\n"
     ]
    }
   ],
   "source": [
    "import pandas as pd\n",
    "print(pd.__version__)"
   ]
  },
  {
   "cell_type": "code",
   "execution_count": 3,
   "id": "a966b724-f51e-4bf3-94de-49d2a43d4bdb",
   "metadata": {
    "tags": []
   },
   "outputs": [],
   "source": [
    "import timeit"
   ]
  },
  {
   "cell_type": "code",
   "execution_count": 4,
   "id": "c581ec3c-4063-4d79-9fd5-00e905fce089",
   "metadata": {
    "tags": []
   },
   "outputs": [],
   "source": [
    "def best_timing(t, number, digits = 2):\n",
    "    t_min = round((min(t)*1000)/number, digits)\n",
    "    print(\"Minimum time: \" + str(t_min) + \" ms\")"
   ]
  },
  {
   "cell_type": "markdown",
   "id": "55b9799b-64c2-457f-b3ec-b5ea2a436aec",
   "metadata": {
    "tags": []
   },
   "source": [
    "# Backblaze data\n",
    "---"
   ]
  },
  {
   "cell_type": "markdown",
   "id": "4457c1b6-f1f8-42bd-a44b-500b3fbb5d0d",
   "metadata": {
    "tags": []
   },
   "source": [
    "## Read CSV"
   ]
  },
  {
   "cell_type": "code",
   "execution_count": 5,
   "id": "73234185-9270-4b4f-ac54-8e62803e0610",
   "metadata": {
    "tags": []
   },
   "outputs": [],
   "source": [
    "def pl_csv_to_df():\n",
    "    return pl.read_csv(\"data/data_Q4_2022/2022-10-01.csv\")"
   ]
  },
  {
   "cell_type": "code",
   "execution_count": 6,
   "id": "c53357bf-3857-4338-9989-5e21ad46d1e7",
   "metadata": {
    "tags": []
   },
   "outputs": [],
   "source": [
    "t_hdd_pl = timeit.repeat(stmt = pl_csv_to_df, number = 100, repeat = 3)"
   ]
  },
  {
   "cell_type": "code",
   "execution_count": 7,
   "id": "08b557a9-5314-411c-ab99-2a481945dbe7",
   "metadata": {
    "tags": []
   },
   "outputs": [],
   "source": [
    "def pd_csv_to_df():\n",
    "    return pd.read_csv(\"data/data_Q4_2022/2022-10-01.csv\")"
   ]
  },
  {
   "cell_type": "code",
   "execution_count": 8,
   "id": "ada0065f-afbe-4d36-b989-f6e6cd350ccb",
   "metadata": {
    "tags": []
   },
   "outputs": [],
   "source": [
    "t_hdd_pd = timeit.repeat(stmt = pd_csv_to_df, number = 100, repeat = 3)"
   ]
  },
  {
   "cell_type": "markdown",
   "id": "070b0a0a-8a9e-40f7-9d5d-48f571e56d34",
   "metadata": {},
   "source": [
    "### **Results**"
   ]
  },
  {
   "cell_type": "code",
   "execution_count": 9,
   "id": "b7ef3b67-a5b6-4973-b453-3a1360781d55",
   "metadata": {
    "tags": []
   },
   "outputs": [
    {
     "name": "stdout",
     "output_type": "stream",
     "text": [
      "Minimum time: 201.96 ms\n"
     ]
    }
   ],
   "source": [
    "best_timing(t_hdd_pl, 100)"
   ]
  },
  {
   "cell_type": "code",
   "execution_count": 10,
   "id": "507ddb11-12b8-444e-b98c-e29440541b6c",
   "metadata": {
    "tags": []
   },
   "outputs": [
    {
     "name": "stdout",
     "output_type": "stream",
     "text": [
      "Minimum time: 953.9 ms\n"
     ]
    }
   ],
   "source": [
    "best_timing(t_hdd_pd, 100)"
   ]
  },
  {
   "cell_type": "markdown",
   "id": "3dbcbe56-2b9c-43b8-bfaf-a4ecca27b92c",
   "metadata": {},
   "source": [
    "## Merging"
   ]
  },
  {
   "cell_type": "code",
   "execution_count": 11,
   "id": "5c8a286b-5706-4261-8d0e-e369a8c4938a",
   "metadata": {
    "tags": []
   },
   "outputs": [],
   "source": [
    "df_hdd_pl_1 = pl.read_csv(\"data/data_Q4_2022/2022-10-02.csv\");\n",
    "df_hdd_pl_2 = pl.read_csv(\"data/data_Q4_2022/2022-10-03.csv\");"
   ]
  },
  {
   "cell_type": "code",
   "execution_count": 12,
   "id": "9e598598-4919-4aef-93d2-3b595ae7a715",
   "metadata": {
    "tags": []
   },
   "outputs": [],
   "source": [
    "def pl_merge_hdd(df_hdd_pl_1 = df_hdd_pl_1, df_hdd_pl_2 = df_hdd_pl_2):\n",
    "    \n",
    "    return df_hdd_pl_1.join(df_hdd_pl_2, on='serial_number')"
   ]
  },
  {
   "cell_type": "code",
   "execution_count": 13,
   "id": "7f0166ae-0292-4abc-ac09-2e2f5ecc5758",
   "metadata": {
    "tags": []
   },
   "outputs": [],
   "source": [
    "t_hdd_pl = timeit.repeat(stmt = pl_merge_hdd, number = 100, repeat = 3)"
   ]
  },
  {
   "cell_type": "code",
   "execution_count": 14,
   "id": "6c336352-0d4f-4c28-846f-a736afb57a98",
   "metadata": {
    "tags": []
   },
   "outputs": [],
   "source": [
    "df_hdd_pd_1 = pd.read_csv(\"data/data_Q4_2022/2022-10-02.csv\");\n",
    "df_hdd_pd_2 = pd.read_csv(\"data/data_Q4_2022/2022-10-03.csv\");"
   ]
  },
  {
   "cell_type": "code",
   "execution_count": 15,
   "id": "dede77c1-b6a4-428b-a8a6-393fe615424e",
   "metadata": {
    "tags": []
   },
   "outputs": [],
   "source": [
    "def pd_merge_hdd(df_hdd_pd_1 = df_hdd_pd_1, df_hdd_pd_2 = df_hdd_pd_2):\n",
    "    \n",
    "    return pd.merge(df_hdd_pd_1, df_hdd_pd_2, on='serial_number', how='inner')"
   ]
  },
  {
   "cell_type": "code",
   "execution_count": 16,
   "id": "bb54554f-77ba-47ab-b753-ee058ca1d1a9",
   "metadata": {
    "tags": []
   },
   "outputs": [],
   "source": [
    "t_hdd_pd = timeit.repeat(stmt = pd_merge_hdd, number = 100, repeat = 3)"
   ]
  },
  {
   "cell_type": "markdown",
   "id": "6364848f-757e-49b7-8c66-8fd86300fcc3",
   "metadata": {},
   "source": [
    "### **Results**"
   ]
  },
  {
   "cell_type": "code",
   "execution_count": 17,
   "id": "25760d77-ccdf-4faf-ac6a-8a97014fb349",
   "metadata": {
    "tags": []
   },
   "outputs": [
    {
     "name": "stdout",
     "output_type": "stream",
     "text": [
      "Minimum time: 158.23 ms\n"
     ]
    }
   ],
   "source": [
    "best_timing(t_hdd_pl, 100)"
   ]
  },
  {
   "cell_type": "code",
   "execution_count": 18,
   "id": "17639ff8-6545-405b-8de3-bf9fc6b68808",
   "metadata": {
    "tags": []
   },
   "outputs": [
    {
     "name": "stdout",
     "output_type": "stream",
     "text": [
      "Minimum time: 355.16 ms\n"
     ]
    }
   ],
   "source": [
    "best_timing(t_hdd_pd, 100)"
   ]
  },
  {
   "cell_type": "markdown",
   "id": "b2297d41-78e7-491a-9d69-edaa477c7d8f",
   "metadata": {},
   "source": [
    "## Filtering"
   ]
  },
  {
   "cell_type": "code",
   "execution_count": 19,
   "id": "ba23634a-4157-48ea-89e6-d9196acee2e1",
   "metadata": {
    "tags": []
   },
   "outputs": [],
   "source": [
    "df_hdd_pl  = pl.read_csv(\"data/data_Q4_2022/2022-10-01.csv\");"
   ]
  },
  {
   "cell_type": "code",
   "execution_count": 20,
   "id": "4e92db2e-e2cd-4ad8-a67b-2288272ae515",
   "metadata": {
    "tags": []
   },
   "outputs": [],
   "source": [
    "def pl_filter_hdd(df_hdd_pl = df_hdd_pl):\n",
    "    return df_hdd_pl.filter(pl.col(\"failure\") > 0)    "
   ]
  },
  {
   "cell_type": "code",
   "execution_count": 21,
   "id": "29088db6-8dc8-413c-b276-c91d6377d56a",
   "metadata": {
    "tags": []
   },
   "outputs": [],
   "source": [
    "t_hdd_pl = timeit.repeat(stmt = pl_filter_hdd, number = 100, repeat = 3)"
   ]
  },
  {
   "cell_type": "code",
   "execution_count": 22,
   "id": "5937d8eb-9516-4f1d-9fb3-42d8e4642657",
   "metadata": {
    "tags": []
   },
   "outputs": [],
   "source": [
    "df_hdd_pd  = pd.read_csv(\"data/data_Q4_2022/2022-10-01.csv\");"
   ]
  },
  {
   "cell_type": "code",
   "execution_count": 23,
   "id": "dab2f8f2-2f8a-4dd7-a013-707c0063b99b",
   "metadata": {
    "tags": []
   },
   "outputs": [],
   "source": [
    "def pd_filter_hdd(df_hdd_pd = df_hdd_pd):\n",
    "    return df_hdd_pd[df_hdd_pd['failure'] > 0]   "
   ]
  },
  {
   "cell_type": "code",
   "execution_count": 24,
   "id": "bff03d5b-a8af-4731-85ea-393f3426a09c",
   "metadata": {
    "tags": []
   },
   "outputs": [],
   "source": [
    "t_hdd_pd = timeit.repeat(stmt = pd_filter_hdd, number = 100, repeat = 3)"
   ]
  },
  {
   "cell_type": "markdown",
   "id": "41f7a370-2f89-4581-bba1-162123c60391",
   "metadata": {},
   "source": [
    "### **Results**"
   ]
  },
  {
   "cell_type": "code",
   "execution_count": 25,
   "id": "63814a7c-3aef-43ca-b0e1-2caf9d41c821",
   "metadata": {
    "tags": []
   },
   "outputs": [
    {
     "name": "stdout",
     "output_type": "stream",
     "text": [
      "Minimum time: 1.05 ms\n"
     ]
    }
   ],
   "source": [
    "best_timing(t_hdd_pl, 100)"
   ]
  },
  {
   "cell_type": "code",
   "execution_count": 26,
   "id": "ec51e02a-57a8-400d-bf30-e99f4ec33a3f",
   "metadata": {
    "tags": []
   },
   "outputs": [
    {
     "name": "stdout",
     "output_type": "stream",
     "text": [
      "Minimum time: 0.21 ms\n"
     ]
    }
   ],
   "source": [
    "best_timing(t_hdd_pd, 100)"
   ]
  },
  {
   "cell_type": "markdown",
   "id": "2ef2ba44-44c5-4546-ad23-3af52afe4cfc",
   "metadata": {},
   "source": [
    "## Aggregation"
   ]
  },
  {
   "cell_type": "code",
   "execution_count": 27,
   "id": "ec5c03ec-8de6-49e6-a790-874d1811ee4c",
   "metadata": {
    "tags": []
   },
   "outputs": [],
   "source": [
    "def pl_agg_hdd(df_hdd_pl = df_hdd_pl):\n",
    "    return (df_hdd_pl.groupby(\"model\").agg(\n",
    "    [\n",
    "        pl.col(\"smart_5_raw\").max().alias(\"5_max\"),\n",
    "        pl.col(\"smart_7_raw\").max().alias(\"7_max\"),\n",
    "        pl.col(\"smart_197_raw\").max().alias(\"197_max\"),\n",
    "        pl.col(\"smart_198_raw\").max().alias(\"198_max\")       \n",
    "        \n",
    "    ]\n",
    "        )\n",
    ")      "
   ]
  },
  {
   "cell_type": "code",
   "execution_count": 28,
   "id": "ae067d5a-edee-44f4-b72b-16a3d6b6370b",
   "metadata": {
    "tags": []
   },
   "outputs": [],
   "source": [
    "t_hdd_pl = timeit.repeat(stmt = pl_agg_hdd, number = 100, repeat = 3)"
   ]
  },
  {
   "cell_type": "code",
   "execution_count": 29,
   "id": "f6c48fe1-1ee5-4824-b7f1-5e8181b5e6f0",
   "metadata": {
    "tags": []
   },
   "outputs": [],
   "source": [
    "def pd_agg_hdd(df_hdd_pd = df_hdd_pd):\n",
    "    return df_hdd_pd.groupby([\"model\"]).agg(\n",
    "    {\"smart_5_raw\": \"max\",\n",
    "     \"smart_7_raw\": \"max\",\n",
    "     \"smart_197_raw\": \"max\",\n",
    "     \"smart_198_raw\": \"max\"}\n",
    ")"
   ]
  },
  {
   "cell_type": "code",
   "execution_count": 30,
   "id": "1e8a7828-3ba2-41af-b0b3-317c2fff81d0",
   "metadata": {
    "tags": []
   },
   "outputs": [],
   "source": [
    "t_hdd_pd = timeit.repeat(stmt = pd_agg_hdd, number = 100, repeat = 3)"
   ]
  },
  {
   "cell_type": "markdown",
   "id": "970fc1fd-1e62-4a3f-bfa9-721655308511",
   "metadata": {},
   "source": [
    "### **Results**"
   ]
  },
  {
   "cell_type": "code",
   "execution_count": 31,
   "id": "8dba4a47-f183-443b-982a-83603368375d",
   "metadata": {
    "tags": []
   },
   "outputs": [
    {
     "name": "stdout",
     "output_type": "stream",
     "text": [
      "Minimum time: 3.0 ms\n"
     ]
    }
   ],
   "source": [
    "best_timing(t_hdd_pl, 100)"
   ]
  },
  {
   "cell_type": "code",
   "execution_count": 32,
   "id": "0ad0f56d-e55e-455c-bd10-d24e43299311",
   "metadata": {
    "tags": []
   },
   "outputs": [
    {
     "name": "stdout",
     "output_type": "stream",
     "text": [
      "Minimum time: 11.0 ms\n"
     ]
    }
   ],
   "source": [
    "best_timing(t_hdd_pd, 100)"
   ]
  },
  {
   "cell_type": "markdown",
   "id": "f6298498-6faa-4ebc-9639-c4de059fa24c",
   "metadata": {
    "tags": []
   },
   "source": [
    "# Steam data\n",
    "---"
   ]
  },
  {
   "cell_type": "markdown",
   "id": "ca387c39-4a86-45c1-ae38-9c4faf0b26f9",
   "metadata": {},
   "source": [
    "## Read CSV"
   ]
  },
  {
   "cell_type": "code",
   "execution_count": 33,
   "id": "30ff3e32-3a79-4ebe-9b5d-84ba41ba4a78",
   "metadata": {
    "tags": []
   },
   "outputs": [],
   "source": [
    "def pl_games_csv_to_df():\n",
    "    return pl.read_csv(\"data/recommendations.csv\", infer_schema_length = 10000)"
   ]
  },
  {
   "cell_type": "code",
   "execution_count": 34,
   "id": "c26fd012-0cd9-484c-b577-c8c691614216",
   "metadata": {},
   "outputs": [],
   "source": [
    "t_games_pl = timeit.repeat(stmt = pl_games_csv_to_df, number = 100, repeat = 3)"
   ]
  },
  {
   "cell_type": "code",
   "execution_count": 35,
   "id": "442273a2-593c-4361-bf9f-a4c46005fb80",
   "metadata": {
    "tags": []
   },
   "outputs": [],
   "source": [
    "def pd_games_csv_to_df():\n",
    "    return pd.read_csv(\"data/recommendations.csv\")"
   ]
  },
  {
   "cell_type": "code",
   "execution_count": 36,
   "id": "8b9356b7-47f3-4eea-b936-4feece06d8c0",
   "metadata": {},
   "outputs": [],
   "source": [
    "t_games_pd = timeit.repeat(stmt = pd_games_csv_to_df, number = 100, repeat = 3)"
   ]
  },
  {
   "cell_type": "markdown",
   "id": "bd3f64a9-4247-4dcd-a836-47b1dcf1dd5a",
   "metadata": {},
   "source": [
    "### **Results**"
   ]
  },
  {
   "cell_type": "code",
   "execution_count": 37,
   "id": "762c3bd2-d3d8-41e3-a859-9de797f7d943",
   "metadata": {},
   "outputs": [
    {
     "name": "stdout",
     "output_type": "stream",
     "text": [
      "Minimum time: 513.64 ms\n"
     ]
    }
   ],
   "source": [
    "best_timing(t_games_pl, 100)"
   ]
  },
  {
   "cell_type": "code",
   "execution_count": 38,
   "id": "1ee243b2-4828-4597-b63c-2673b31ec42a",
   "metadata": {
    "tags": []
   },
   "outputs": [
    {
     "name": "stdout",
     "output_type": "stream",
     "text": [
      "Minimum time: 3035.31 ms\n"
     ]
    }
   ],
   "source": [
    "best_timing(t_games_pd, 100)"
   ]
  },
  {
   "cell_type": "markdown",
   "id": "a73982a2-23e5-473b-9c8b-04092a7f701d",
   "metadata": {
    "tags": []
   },
   "source": [
    "## Filtering"
   ]
  },
  {
   "cell_type": "code",
   "execution_count": 40,
   "id": "b57d8d6f-e29f-49c8-89d2-a41858f59feb",
   "metadata": {
    "tags": []
   },
   "outputs": [],
   "source": [
    "df_games_pl = pl.read_csv(\"data/recommendations.csv\", infer_schema_length = 10000)"
   ]
  },
  {
   "cell_type": "code",
   "execution_count": null,
   "id": "daeb15ad-4962-4e20-b1b4-f647318e25ae",
   "metadata": {
    "tags": []
   },
   "outputs": [],
   "source": [
    "def pl_filter_games(df_games_pl = df_games_pl):\n",
    "    return df_games_pl.filter((pl.col(\"hours\") > 72) & (pl.col(\"helpful\") > 100))"
   ]
  },
  {
   "cell_type": "code",
   "execution_count": null,
   "id": "2ccf7a8d-3896-4e44-8ed0-c363b8c21a30",
   "metadata": {},
   "outputs": [],
   "source": [
    "t_games_pl = timeit.repeat(stmt = pl_filter_games, number = 100, repeat = 3)"
   ]
  },
  {
   "cell_type": "code",
   "execution_count": 41,
   "id": "271f77a8-2f4b-4ba4-97cc-5de69b9e8d9d",
   "metadata": {
    "tags": []
   },
   "outputs": [],
   "source": [
    "df_games_pd = pd.read_csv(\"data/recommendations.csv\")"
   ]
  },
  {
   "cell_type": "code",
   "execution_count": null,
   "id": "45dee615-b126-4ac1-b193-914883dba2bb",
   "metadata": {
    "tags": []
   },
   "outputs": [],
   "source": [
    "def pd_filter_games(df_games_pd = df_games_pd):\n",
    "    return df_games_pd[(df_games_pd['hours'] > 72) & (df_games_pd['helpful'] > 100)]"
   ]
  },
  {
   "cell_type": "code",
   "execution_count": null,
   "id": "0ac1cb8c-0bae-426a-a69f-3b5723fd5a3c",
   "metadata": {
    "tags": []
   },
   "outputs": [],
   "source": [
    "t_games_pd = timeit.repeat(stmt = pd_filter_games, number = 100, repeat = 3)"
   ]
  },
  {
   "cell_type": "markdown",
   "id": "52dedce9-cb78-417a-a3c5-9e187996ea77",
   "metadata": {
    "tags": []
   },
   "source": [
    "### **Results**"
   ]
  },
  {
   "cell_type": "code",
   "execution_count": null,
   "id": "5c23e0fa-b772-4209-917f-0f93ae9aadde",
   "metadata": {},
   "outputs": [],
   "source": [
    "best_timing(t_games_pl, 100)"
   ]
  },
  {
   "cell_type": "code",
   "execution_count": null,
   "id": "6b926d2e-085d-471d-89a7-f0e7afc57430",
   "metadata": {},
   "outputs": [],
   "source": [
    "best_timing(t_games_pd, 100)"
   ]
  },
  {
   "cell_type": "markdown",
   "id": "3308ef0c-1518-4b38-a530-19287ca0a023",
   "metadata": {},
   "source": [
    "## Aggregation"
   ]
  },
  {
   "cell_type": "code",
   "execution_count": null,
   "id": "629cb0ca-fea9-4b9d-a176-9bd548332b0e",
   "metadata": {
    "tags": []
   },
   "outputs": [],
   "source": [
    "def pl_agg_games(df_games_pl = df_games_pl):\n",
    "    \n",
    "    return (df_games_pl.groupby(\"app_id\").agg(\n",
    "    [\n",
    "        pl.col(\"hours\").min().alias(\"hours_min\"),\n",
    "        pl.col(\"hours\").max().alias(\"hours_max\"),\n",
    "        pl.col(\"hours\").mean().alias(\"hours_mean\"),\n",
    "        pl.col(\"hours\").sum().alias(\"hours_sum\"),\n",
    "        pl.col(\"is_recommended\").sum().alias(\"num_recommended\"),\n",
    "        pl.col(\"helpful\").sum().alias(\"num_helpful\"),\n",
    "        pl.col(\"funny\").sum().alias(\"funny\"),        \n",
    "    ]\n",
    "        )\n",
    ")      "
   ]
  },
  {
   "cell_type": "code",
   "execution_count": null,
   "id": "59ec04ae-52ff-41d3-8614-b1efe576c56a",
   "metadata": {
    "tags": []
   },
   "outputs": [],
   "source": [
    "t_games_pl = timeit.repeat(stmt = pl_agg_games, number = 100, repeat = 3)"
   ]
  },
  {
   "cell_type": "code",
   "execution_count": null,
   "id": "f4456023-8985-473f-b989-0c2a9cb7311d",
   "metadata": {
    "tags": []
   },
   "outputs": [],
   "source": [
    "def pd_agg_games(df_games_pd = df_games_pd):\n",
    "    \n",
    "    return df_games_pd.groupby([\"app_id\"]).agg(\n",
    "    {\"hours\": [\"min\", \"max\", \"mean\", \"sum\"],\n",
    "     \"is_recommended\": \"sum\",\n",
    "     \"helpful\": \"sum\",\n",
    "     \"funny\": \"sum\"}\n",
    ")"
   ]
  },
  {
   "cell_type": "code",
   "execution_count": null,
   "id": "c4661d32-b784-47da-bca4-9ae14dee8adc",
   "metadata": {
    "tags": []
   },
   "outputs": [],
   "source": [
    "t_games_pd = timeit.repeat(stmt = pd_agg_games, number = 100, repeat = 3)"
   ]
  },
  {
   "cell_type": "markdown",
   "id": "fcc04fb3-520c-4535-ade5-b487bee19534",
   "metadata": {},
   "source": [
    "### **Results**"
   ]
  },
  {
   "cell_type": "code",
   "execution_count": null,
   "id": "c73ed60b-ccb7-45c6-b966-882610b1fdf0",
   "metadata": {},
   "outputs": [],
   "source": [
    "best_timing(t_games_pl, 100)"
   ]
  },
  {
   "cell_type": "code",
   "execution_count": null,
   "id": "815f958e-752c-4217-85d4-744d8959cee4",
   "metadata": {
    "tags": []
   },
   "outputs": [],
   "source": [
    "best_timing(t_games_pd, 100)"
   ]
  },
  {
   "cell_type": "markdown",
   "id": "dea55ec9-3bd3-4902-853b-98e86f21a3ab",
   "metadata": {},
   "source": [
    "# Rotten Tomatoes data\n",
    "---"
   ]
  },
  {
   "cell_type": "markdown",
   "id": "406a56d6-3b04-409e-9b07-05e1e370071d",
   "metadata": {},
   "source": [
    "## Read CSV"
   ]
  },
  {
   "cell_type": "code",
   "execution_count": 42,
   "id": "834a1c7c-f482-4ab2-a474-9bdc14483c89",
   "metadata": {
    "tags": []
   },
   "outputs": [],
   "source": [
    "def pl_movies_csv_to_df():\n",
    "    return pl.read_csv(\"data/rotten_tomatoes_movie_reviews.csv\", infer_schema_length = 10000)"
   ]
  },
  {
   "cell_type": "code",
   "execution_count": null,
   "id": "a501f09a-2a24-49b6-b75c-81a79ef0bae6",
   "metadata": {
    "tags": []
   },
   "outputs": [],
   "source": [
    "t_movies_pl = timeit.repeat(stmt = pl_movies_csv_to_df, number = 100, repeat = 3)"
   ]
  },
  {
   "cell_type": "code",
   "execution_count": 43,
   "id": "23bbc5e4-433f-4495-8954-dfbf6c1cd13c",
   "metadata": {
    "tags": []
   },
   "outputs": [],
   "source": [
    "def pd_movies_csv_to_df():\n",
    "    return pd.read_csv(\"data/rotten_tomatoes_movie_reviews.csv\")"
   ]
  },
  {
   "cell_type": "code",
   "execution_count": null,
   "id": "e3a3322c-4800-4874-90d5-4e86d4311124",
   "metadata": {
    "tags": []
   },
   "outputs": [],
   "source": [
    "t_movies_pd = timeit.repeat(stmt = pd_movies_csv_to_df, number = 100, repeat = 3)"
   ]
  },
  {
   "cell_type": "markdown",
   "id": "54891966-f594-421a-8c1e-8b50d8b0f379",
   "metadata": {},
   "source": [
    "## **Results**"
   ]
  },
  {
   "cell_type": "code",
   "execution_count": null,
   "id": "05b0afd6-0d0b-4f94-8ccb-a5ba2cecc8cd",
   "metadata": {},
   "outputs": [],
   "source": [
    "best_timing(t_movies_pl, 100)"
   ]
  },
  {
   "cell_type": "code",
   "execution_count": null,
   "id": "90349665-5c16-45d1-ac7a-5e51ec21b2d6",
   "metadata": {},
   "outputs": [],
   "source": [
    "best_timing(t_movies_pd, 100)"
   ]
  },
  {
   "cell_type": "markdown",
   "id": "bcebd5f0-db60-480b-9984-05c994f87c95",
   "metadata": {},
   "source": [
    "## Filtering"
   ]
  },
  {
   "cell_type": "code",
   "execution_count": null,
   "id": "bfa218e5-7e18-4a6f-8ac6-1f49e1024df3",
   "metadata": {
    "tags": []
   },
   "outputs": [],
   "source": [
    "df_movies_pl = pl.read_csv(\"data/rotten_tomatoes_movie_reviews.csv\", infer_schema_length = 10000)"
   ]
  },
  {
   "cell_type": "code",
   "execution_count": null,
   "id": "b0d29bef-1fea-43fd-938d-d0da73fb03db",
   "metadata": {
    "tags": []
   },
   "outputs": [],
   "source": [
    "def pl_filter_movies(df_movies_pl = df_movies_pl):\n",
    "    return df_movies_pl.filter((pl.col(\"isTopCritic\") == True) & (pl.col(\"scoreSentiment\") == \"POSITIVE\"))"
   ]
  },
  {
   "cell_type": "code",
   "execution_count": null,
   "id": "886abaca-c5b9-495c-a072-3a92ab0a449e",
   "metadata": {
    "tags": []
   },
   "outputs": [],
   "source": [
    "t_movies_pl = timeit.repeat(stmt = pl_filter_movies, number = 100, repeat = 3)"
   ]
  },
  {
   "cell_type": "code",
   "execution_count": null,
   "id": "893be084-aedf-4be7-8331-83a13e773cf2",
   "metadata": {
    "tags": []
   },
   "outputs": [],
   "source": [
    "df_movies_pd = pd.read_csv(\"data/rotten_tomatoes_movie_reviews.csv\")"
   ]
  },
  {
   "cell_type": "code",
   "execution_count": null,
   "id": "2293ee38-1cae-41d3-9c82-905206d0ce32",
   "metadata": {
    "tags": []
   },
   "outputs": [],
   "source": [
    "def pd_filter_movies(df_movies_pd = df_movies_pd):\n",
    "    return df_movies_pd[(df_movies_pd['isTopCritic'] == True) & (df_movies_pd['scoreSentiment'] == \"POSITIVE\")]"
   ]
  },
  {
   "cell_type": "code",
   "execution_count": null,
   "id": "e96cc423-a4aa-4333-95dd-cb9ea790d7da",
   "metadata": {
    "tags": []
   },
   "outputs": [],
   "source": [
    "t_movies_pd = timeit.repeat(stmt = pd_filter_movies, number = 100, repeat = 3)"
   ]
  },
  {
   "cell_type": "markdown",
   "id": "7fda550f-cafa-4546-b943-7dde58eefd8c",
   "metadata": {},
   "source": [
    "### **Results**"
   ]
  },
  {
   "cell_type": "code",
   "execution_count": null,
   "id": "65dc3ebb-e3d9-419f-baf3-ba64c1b95257",
   "metadata": {},
   "outputs": [],
   "source": [
    "best_timing(t_movies_pl, 100)"
   ]
  },
  {
   "cell_type": "code",
   "execution_count": null,
   "id": "077b6a8f-f154-4776-b619-1f62d0ead280",
   "metadata": {
    "tags": []
   },
   "outputs": [],
   "source": [
    "best_timing(t_movies_pd, 100)"
   ]
  },
  {
   "cell_type": "markdown",
   "id": "480a03e1-878d-4cbd-99ae-ca7093f2fdd9",
   "metadata": {},
   "source": [
    "## Aggregation"
   ]
  },
  {
   "cell_type": "code",
   "execution_count": null,
   "id": "d53e894b-9ad1-4792-b2ee-a18b6e37ab8a",
   "metadata": {
    "tags": []
   },
   "outputs": [],
   "source": [
    "def pl_agg_movies(df_movies_pl = df_movies_pl):\n",
    "    \n",
    "    return (df_movies_pl.groupby(['id', 'reviewState', 'scoreSentiment']).agg(\n",
    "    [\n",
    "        pl.count()\n",
    "              \n",
    "    ]\n",
    "        )\n",
    "    )   "
   ]
  },
  {
   "cell_type": "code",
   "execution_count": null,
   "id": "8f546976-322b-4c29-8aad-cd8b03f0f247",
   "metadata": {
    "tags": []
   },
   "outputs": [],
   "source": [
    "t_movies_pl = timeit.repeat(stmt = pl_agg_movies, number = 100, repeat = 3)"
   ]
  },
  {
   "cell_type": "code",
   "execution_count": null,
   "id": "71962073-134a-4fc2-b082-cdd7351b0708",
   "metadata": {
    "tags": []
   },
   "outputs": [],
   "source": [
    "def pd_agg_movies(df_movies_pd = df_movies_pd):\n",
    "    \n",
    "    return df_movies_pd.groupby(['id', 'reviewState', 'scoreSentiment'])['reviewState'].agg('count')"
   ]
  },
  {
   "cell_type": "code",
   "execution_count": null,
   "id": "9d56c171-1086-4fd6-8394-81b419ebc86d",
   "metadata": {
    "tags": []
   },
   "outputs": [],
   "source": [
    "t_movies_pd = timeit.repeat(stmt = pd_agg_movies, number = 100, repeat = 3)"
   ]
  },
  {
   "cell_type": "markdown",
   "id": "e1dee9b4-db96-419f-ad95-89fbbd66bfc0",
   "metadata": {
    "tags": []
   },
   "source": [
    "### **Results**"
   ]
  },
  {
   "cell_type": "code",
   "execution_count": null,
   "id": "8caacb15-0693-467e-b78d-6033b42c8295",
   "metadata": {},
   "outputs": [],
   "source": [
    "best_timing(t_movies_pl, 100)"
   ]
  },
  {
   "cell_type": "code",
   "execution_count": null,
   "id": "05315a93-2537-475a-a10d-303b63f81218",
   "metadata": {
    "tags": []
   },
   "outputs": [],
   "source": [
    "best_timing(t_movies_pd, 100)"
   ]
  }
 ],
 "metadata": {
  "kernelspec": {
   "display_name": "Python 3 (ipykernel)",
   "language": "python",
   "name": "python3"
  },
  "language_info": {
   "codemirror_mode": {
    "name": "ipython",
    "version": 3
   },
   "file_extension": ".py",
   "mimetype": "text/x-python",
   "name": "python",
   "nbconvert_exporter": "python",
   "pygments_lexer": "ipython3",
   "version": "3.10.6"
  }
 },
 "nbformat": 4,
 "nbformat_minor": 5
}
